{
 "cells": [
  {
   "cell_type": "markdown",
   "metadata": {},
   "source": [
    "# 주식 관련정보 크롤링"
   ]
  },
  {
   "cell_type": "markdown",
   "metadata": {},
   "source": [
    "### 목차\n",
    "- 1. 국내\n",
    "- 2. 해외\n",
    "    - 2-1. Marketscreener\n",
    "    - 2-2. Yahoo Finance\n",
    "- WICS 통합본 내보내기\n",
    "- 3. 기타 그외\n",
    "    - 3-1. KOSPI"
   ]
  },
  {
   "cell_type": "markdown",
   "metadata": {},
   "source": [
    "----------"
   ]
  },
  {
   "cell_type": "markdown",
   "metadata": {},
   "source": [
    "# 1. 국내 (WICS_KR)"
   ]
  },
  {
   "cell_type": "markdown",
   "metadata": {},
   "source": [
    "### 라이브러리 가져오기"
   ]
  },
  {
   "cell_type": "code",
   "execution_count": null,
   "metadata": {},
   "outputs": [],
   "source": [
    "import pandas as pd\n",
    "import requests\n",
    "from bs4 import BeautifulSoup"
   ]
  },
  {
   "cell_type": "markdown",
   "metadata": {},
   "source": [
    "### 데이터 가져오기"
   ]
  },
  {
   "cell_type": "code",
   "execution_count": null,
   "metadata": {},
   "outputs": [],
   "source": [
    "iem_info = pd.read_csv('./Raw_Data/2_iem_info.csv')\n",
    "iem_info['iem_cd'] = iem_info['iem_cd'].str.rstrip()"
   ]
  },
  {
   "cell_type": "markdown",
   "metadata": {},
   "source": [
    "### 크롤링"
   ]
  },
  {
   "cell_type": "code",
   "execution_count": null,
   "metadata": {},
   "outputs": [],
   "source": [
    "def get_wics(lines):\n",
    "    for line in lines:\n",
    "        if 'WICS' in line.text:\n",
    "            return line.text.split('WICS : ')[1]"
   ]
  },
  {
   "cell_type": "code",
   "execution_count": null,
   "metadata": {},
   "outputs": [],
   "source": [
    "def get_sector_wics(company_code):\n",
    "    url = 'https://navercomp.wisereport.co.kr/v2/company/c1090001.aspx?cmp_cd=' + company_code + '&cn='\n",
    "    page = requests.get(url)\n",
    "    soup = BeautifulSoup(page.content, 'html.parser')\n",
    "    lines = soup.find_all('dt', {'class':'line-left'})\n",
    "    wics = get_wics(lines)\n",
    "    return wics"
   ]
  },
  {
   "cell_type": "code",
   "execution_count": null,
   "metadata": {},
   "outputs": [],
   "source": [
    "x = []\n",
    "for i in range(len(iem_info)):\n",
    "    if iem_info.iloc[i, 0].find('A')==0:\n",
    "        x.append(iem_info.iloc[i, 0][1:7])\n",
    "for i in range(len(x)):\n",
    "    if x[i].find('U')==0:\n",
    "        x[i]=0\n",
    "while 0 in x:\n",
    "    x.remove(0)"
   ]
  },
  {
   "cell_type": "code",
   "execution_count": null,
   "metadata": {},
   "outputs": [],
   "source": [
    "wics_kr = pd.DataFrame(None, columns=['iem_cd', 'WICS'], index=range(len(x)))\n",
    "for i in range(len(x)):\n",
    "    w = get_sector_wics(x[i])\n",
    "    wics_kr.iloc[i, 0] = 'A' + x[i]\n",
    "    wics_kr.iloc[i, 1] = w"
   ]
  },
  {
   "cell_type": "markdown",
   "metadata": {},
   "source": [
    "### 분류하기 (대분류:cat_1, 중분류: cat_2, 소분류: cat_3)"
   ]
  },
  {
   "cell_type": "code",
   "execution_count": null,
   "metadata": {},
   "outputs": [],
   "source": [
    "wics_kr['cat_1'] = None\n",
    "wics_kr['cat_2'] = None\n",
    "wics_kr.columns = ['iem_cd', 'cat_3', 'cat_1', 'cat_2']\n",
    "wics_kr = wics_kr[['iem_cd', 'cat_1', 'cat_2', 'cat_3']]\n",
    "\n",
    "wics_kr = pd.merge(wics_kr, iem_info, how='left', on='iem_cd')"
   ]
  },
  {
   "cell_type": "code",
   "execution_count": null,
   "metadata": {},
   "outputs": [],
   "source": [
    "#국내 ETF 분류하기\n",
    "for i in range(len(wics_kr)):\n",
    "    if ('ETF' in wics_kr.iloc[i, 4]) | ('지수' in wics_kr.iloc[i, 5]):\n",
    "        wics_kr.iloc[i, 1] = 'ETF'\n",
    "        wics_kr.iloc[i, 2] = 'ETF(일반)'\n",
    "        wics_kr.iloc[i, 3] = 'ETF(1배)'\n",
    "\n",
    "for i in range(len(wics_kr)):\n",
    "    if ('INVERSE' in wics_kr.iloc[i, 4]) | ('Inverse' in wics_kr.iloc[i, 4]) | ('inverse' in wics_kr.iloc[i, 4]):\n",
    "        wics_kr.iloc[i, 1] = 'ETF'\n",
    "        wics_kr.iloc[i, 2] = 'ETF(인버스)'\n",
    "        wics_kr.iloc[i, 3] = 'ETF(1배)'\n",
    "    elif ('LEVERAGE' in wics_kr.iloc[i, 4]) | ('Leverage' in wics_kr.iloc[i, 4]) | ('leverage' in wics_kr.iloc[i, 4]):\n",
    "        wics_kr.iloc[i, 1] = 'ETF'\n",
    "        wics_kr.iloc[i, 2] = 'ETF(일반)'\n",
    "        wics_kr.iloc[i, 3] = 'ETF(2배)'\n",
    "\n",
    "for i in range(len(wics_kr)):\n",
    "    if ('2X' in wics_kr.iloc[i, 4]):\n",
    "        wics_kr.iloc[i, 3] = 'ETF(2배)'\n",
    "\n",
    "for i in range(len(wics_kr)):\n",
    "    if '인수목적' in wics_kr.iloc[i, 5]:\n",
    "        wics_kr.iloc[i, 3] = '기타금융'"
   ]
  },
  {
   "cell_type": "code",
   "execution_count": null,
   "metadata": {},
   "outputs": [],
   "source": [
    "#소분류 세부수정\n",
    "wics_kr.iloc[[30, 42, 268, 435, 481, 555, 597, 609, 660, 729, 818, 880, 1062, 1072, 1136, 1173, 1300, 1512, 1569, 1580,\n",
    "           1753, 1810, 1855, 1858, 1865, 1947, 1973, 2007, 2037, 2038, 2073, 2122, 2309, 2474, 2485], 3\n",
    "         ] = ['건설', '건설', '전자장비와기기', '은행', '건축자재', '호텔,레스토랑,레저', '전자장비와기기', '화학', '반도체와반도체장비',\n",
    "              '식품', '섬유,의류,신발,호화품', '건축자재', '반도체와반도체장비', '해운사', '자동차부품', '반도체와반도체장비', '종이와목재',\n",
    "              '생명보험', '에너지장비및서비스', '비철금속', '식품', '건설', 'IT서비스', '백화점과일반상점', '섬유,의류,신발,호화품',\n",
    "              '섬유,의류,신발,호화품', '식품', '비철금속', '디스플레이장비및부품', '디스플레이장비및부품', '해운사', '가정용기기와용품',\n",
    "              '섬유,의류,신발,호화품', '비철금속', '인터넷과카탈로그소매']"
   ]
  },
  {
   "cell_type": "code",
   "execution_count": null,
   "metadata": {},
   "outputs": [],
   "source": [
    "#중분류\n",
    "for i in range(len(wics_kr)):\n",
    "    if wics_kr.iloc[i, 3] in ['에너지장비및서비스', '석유와가스']:\n",
    "        wics_kr.iloc[i, 2] = '에너지'\n",
    "    elif wics_kr.iloc[i, 3] in ['화학', '포장재', '비철금속', '철강', '종이와목재']:\n",
    "        wics_kr.iloc[i, 2] = '소재'\n",
    "    elif wics_kr.iloc[i, 3] in ['우주항공과국방', '건축제품', '건축자재', '건설', '가구', '전기장비', '복합기업', '기계', '조선', '무역회사와판매업체']:\n",
    "        wics_kr.iloc[i, 2] = '자본재'\n",
    "    elif wics_kr.iloc[i, 3] in ['상업서비스와공급품']:\n",
    "        wics_kr.iloc[i, 2] = '상업서비스와공급품'\n",
    "    elif wics_kr.iloc[i, 3] in ['항공화물운송과물류', '항공사', '해운사', '도로와철도운송', '운송인프라']:\n",
    "        wics_kr.iloc[i, 2] = '운송'\n",
    "    elif wics_kr.iloc[i, 3] in ['자동차부품', '자동차']:\n",
    "        wics_kr.iloc[i, 2] = '자동차와부품'\n",
    "    elif wics_kr.iloc[i, 3] in ['가정용기기와용품', '레저용장비와제품', '섬유,의류,신발,호화품', '화장품', '문구류']:\n",
    "        wics_kr.iloc[i, 2] = '내구소비재와의류'\n",
    "    elif wics_kr.iloc[i, 3] in ['호텔,레스토랑,레저', '다각화된소비자서비스']:\n",
    "        wics_kr.iloc[i, 2] = '호텔,레스토랑,레저등'\n",
    "    elif wics_kr.iloc[i, 3] in ['판매업체', '인터넷과카탈로그소매', '백화점과일반상점', '전문소매']:\n",
    "        wics_kr.iloc[i, 2] = '소매(유통)'\n",
    "    elif wics_kr.iloc[i, 3] in ['교육서비스']:\n",
    "        wics_kr.iloc[i, 2] = '교육서비스'\n",
    "    elif wics_kr.iloc[i, 3] in ['식품과기본식료품소매']:\n",
    "        wics_kr.iloc[i, 2] = '식품과기본식료품소매'\n",
    "    elif wics_kr.iloc[i, 3] in ['음료', '식품', '담배']:\n",
    "        wics_kr.iloc[i, 2] = '식품,음료,담배'\n",
    "    elif wics_kr.iloc[i, 3] in ['가정용품']:\n",
    "        wics_kr.iloc[i, 2] = '가정용품과개인용품'\n",
    "    elif wics_kr.iloc[i, 3] in ['건강관리장비와용품', '건강관리업체및서비스', '건강관리기술']:\n",
    "        wics_kr.iloc[i, 2] = '건강관리장비와서비스'\n",
    "    elif wics_kr.iloc[i, 3] in ['생물공학', '제약', '생명과학도구및서비스']:\n",
    "        wics_kr.iloc[i, 2] = '제약과생물공학'\n",
    "    elif wics_kr.iloc[i, 3] in ['은행']:\n",
    "        wics_kr.iloc[i, 2] = '은행'\n",
    "    elif wics_kr.iloc[i, 3] in ['증권']:\n",
    "        wics_kr.iloc[i, 2] = '증권'\n",
    "    elif wics_kr.iloc[i, 3] in ['창업투자', '카드', '기타금융']:\n",
    "        wics_kr.iloc[i, 2] = '다각화된금융'\n",
    "    elif wics_kr.iloc[i, 3] in ['손해보험', '생명보험']:\n",
    "        wics_kr.iloc[i, 2] = '보험'\n",
    "    elif wics_kr.iloc[i, 3] in ['부동산']:\n",
    "        wics_kr.iloc[i, 2] = '부동산'\n",
    "    elif wics_kr.iloc[i, 3] in ['IT서비스', '소프트웨어']:\n",
    "        wics_kr.iloc[i, 2] = '소프트웨어와서비스'\n",
    "    elif wics_kr.iloc[i, 3] in ['통신장비', '핸드셋', '컴퓨터와주변기기', '전자장비와기기', '사무용전자제품']:\n",
    "        wics_kr.iloc[i, 2] = '기술하드웨어와장비'\n",
    "    elif wics_kr.iloc[i, 3] in ['반도체와반도체장비']:\n",
    "        wics_kr.iloc[i, 2] = '반도체와반도체장비'\n",
    "    elif wics_kr.iloc[i, 3] in ['전자제품', '전기제품']:\n",
    "        wics_kr.iloc[i, 2] = '전자와전기제품'\n",
    "    elif wics_kr.iloc[i, 3] in ['디스플레이패널', '디스플레이장비및부품']:\n",
    "        wics_kr.iloc[i, 2] = '디스플레이'\n",
    "    elif wics_kr.iloc[i, 3] in ['다각화된통신서비스', '무선통신서비스']:\n",
    "        wics_kr.iloc[i, 2] = '전기통신서비스'\n",
    "    elif wics_kr.iloc[i, 3] in ['광고', '방송과엔터테인먼트', '출판', '게임엔터테인먼트', '양방향미디어와서비스']:\n",
    "        wics_kr.iloc[i, 2] = '미디어와엔터테인먼트'\n",
    "    elif wics_kr.iloc[i, 3] in ['전기유틸리티', '가스유틸리티', '복합유틸리티', '수도유틸리티', '독립전력생산및에너지거래']:\n",
    "        wics_kr.iloc[i, 2] = '유틸리티'\n",
    "    elif wics_kr.iloc[i, 3] in ['미분류']:\n",
    "        wics_kr.iloc[i, 2] = '미분류'\n",
    "    else:\n",
    "        pass"
   ]
  },
  {
   "cell_type": "code",
   "execution_count": null,
   "metadata": {},
   "outputs": [],
   "source": [
    "#대분류\n",
    "for i in range(len(wics_kr)):\n",
    "    if wics_kr.iloc[i, 2] in ['에너지']:\n",
    "        wics_kr.iloc[i, 1] = '에너지'\n",
    "    elif wics_kr.iloc[i, 2] in ['소재']:\n",
    "        wics_kr.iloc[i, 1] = '소재'\n",
    "    elif wics_kr.iloc[i, 2] in ['자본재', '상업서비스와공급품', '운송']:\n",
    "        wics_kr.iloc[i, 1] = '산업재'\n",
    "    elif wics_kr.iloc[i, 2] in ['자동차와부품', '내구소비재와의류', '호텔,레스토랑,레저등', '소매(유통)', '교육서비스']:\n",
    "        wics_kr.iloc[i, 1] = '경기관련소비재'\n",
    "    elif wics_kr.iloc[i, 2] in ['식품과기본식료품소매', '식품,음료,담배', '가정용품과개인용품']:\n",
    "        wics_kr.iloc[i, 1] = '필수소비재'\n",
    "    elif wics_kr.iloc[i, 2] in ['건강관리장비와서비스', '제약과생물공학']:\n",
    "        wics_kr.iloc[i, 1] = '건강관리'\n",
    "    elif wics_kr.iloc[i, 2] in ['은행', '증권', '다각화된금융', '보험', '부동산']:\n",
    "        wics_kr.iloc[i, 1] = '금융'\n",
    "    elif wics_kr.iloc[i, 2] in ['소프트웨어와서비스', '기술하드웨어와장비', '반도체와반도체장비', '전자와전기제품', '디스플레이']:\n",
    "        wics_kr.iloc[i, 1] = 'IT'\n",
    "    elif wics_kr.iloc[i, 2] in ['전기통신서비스', '미디어와엔터테인먼트']:\n",
    "        wics_kr.iloc[i, 1] = '커뮤니케이션서비스'\n",
    "    elif wics_kr.iloc[i, 2] in ['유틸리티']:\n",
    "        wics_kr.iloc[i, 1] = '유틸리티'\n",
    "    elif wics_kr.iloc[i, 2] in ['미분류']:\n",
    "        wics_kr.iloc[i, 1] = '미분류'\n",
    "    else:\n",
    "        pass"
   ]
  },
  {
   "cell_type": "code",
   "execution_count": null,
   "metadata": {},
   "outputs": [],
   "source": [
    "wics_kr = wics_kr.drop(['iem_eng_nm', 'iem_krl_nm'], axis=1)\n",
    "wics_kr.to_csv('wics_kr.csv', index=False)"
   ]
  },
  {
   "cell_type": "markdown",
   "metadata": {},
   "source": [
    "-------"
   ]
  },
  {
   "cell_type": "markdown",
   "metadata": {},
   "source": [
    "# 2. 해외"
   ]
  },
  {
   "cell_type": "markdown",
   "metadata": {},
   "source": [
    "## 2-1. Marketscreener"
   ]
  },
  {
   "cell_type": "markdown",
   "metadata": {},
   "source": [
    "### 라이브러리 가져오기"
   ]
  },
  {
   "cell_type": "code",
   "execution_count": null,
   "metadata": {},
   "outputs": [],
   "source": [
    "import pandas as pd\n",
    "from selenium import webdriver as wd\n",
    "from bs4 import BeautifulSoup\n",
    "import warnings\n",
    "warnings.filterwarnings(action='ignore')"
   ]
  },
  {
   "cell_type": "markdown",
   "metadata": {},
   "source": [
    "### 데이터 가져오기"
   ]
  },
  {
   "cell_type": "code",
   "execution_count": null,
   "metadata": {},
   "outputs": [],
   "source": [
    "#해외주식 기업코드 추출\n",
    "oss_iem_cd = iem_info['iem_cd'][~iem_info['iem_cd'].isin(wics_kr['iem_cd'])].reset_index(drop=True)"
   ]
  },
  {
   "cell_type": "markdown",
   "metadata": {},
   "source": [
    "### 크롤링"
   ]
  },
  {
   "cell_type": "code",
   "execution_count": null,
   "metadata": {},
   "outputs": [],
   "source": [
    "def get_oss_sector(company_code):\n",
    "    driver = wd.Chrome(executable_path='chromedriver.exe')\n",
    "    url = 'https://www.marketscreener.com/search/?lien=recherche&mots=' + company_code + '&RewriteLast=&noredirect=0&type_recherche=0'\n",
    "    driver.get(url)\n",
    "    \n",
    "    #첫번째 기업 클릭\n",
    "    driver.find_element_by_xpath('//*[@id=\"ALNI0\"]/tbody/tr[2]/td[3]/a').click()\n",
    "   \n",
    "    page_src = driver.page_source\n",
    "    driver.close()\n",
    "    soup = BeautifulSoup(page_src, 'html.parser')\n",
    "\n",
    "    sector = soup.select('#zbCenter > div > span > table:nth-child(7) > tbody > tr:nth-child(2) > td:nth-child(1) > table:nth-child(4) > tbody > tr:nth-child(2) > td > div:nth-child(2) > table > tbody > tr > td:nth-child(1) > a')[0].text\n",
    "   \n",
    "    return sector"
   ]
  },
  {
   "cell_type": "code",
   "execution_count": null,
   "metadata": {},
   "outputs": [],
   "source": [
    "#빈 DataFrame 만들기\n",
    "oss_sector = pd.DataFrame(None, columns=['iem_cd', 'sector'], index=range(len(oss_iem_cd)))\n",
    "\n",
    "#sector 입력\n",
    "for i in range(len(oss_iem_cd)):\n",
    "    oss_sector.iloc[i, 0] = oss_iem_cd[i]\n",
    "    try:\n",
    "        oss_sector.iloc[i, 1] = get_oss_sector(oss_iem_cd[i])\n",
    "    except:\n",
    "        oss_sector.iloc[i, 1] = None\n",
    "        \n",
    "# oss_sector.to_csv('../preprocessed_data/oss_marketscreener.csv', index=False)"
   ]
  },
  {
   "cell_type": "markdown",
   "metadata": {},
   "source": [
    "## 2-2. Yahoo Finance\n",
    "- 해외서버 불안정으로 세 번 크롤링함"
   ]
  },
  {
   "cell_type": "code",
   "execution_count": null,
   "metadata": {},
   "outputs": [],
   "source": [
    "#Martketscreener로 검색 안 된 주식들 따로 보기\n",
    "oss_na_checklist = oss_sector[oss_sector['sector'].isna()]\n",
    "\n",
    "#NA와 notNA로 나누기\n",
    "oss_na_checklist_notNA = oss_na_checklist[~oss_na_checklist['sector'].isna()].reset_index(drop=True)\n",
    "oss_na_checklist_NA = oss_na_checklist[oss_na_checklist['sector'].isna()].reset_index(drop=True)\n",
    "oss_iem_cd = oss_na_checklist_NA['iem_cd']"
   ]
  },
  {
   "cell_type": "markdown",
   "metadata": {},
   "source": [
    "### 크롤링"
   ]
  },
  {
   "cell_type": "code",
   "execution_count": null,
   "metadata": {},
   "outputs": [],
   "source": [
    "def find_plz(company_code):\n",
    "    driver.find_element_by_css_selector('#yfin-usr-qry').clear()\n",
    "    driver.refresh()\n",
    "    time.sleep(1)\n",
    "    driver.find_element_by_css_selector('#yfin-usr-qry').send_keys(company_code)\n",
    "    time.sleep(3)\n",
    "    \n",
    "    try:\n",
    "        driver.find_element_by_xpath('//*[@id=\"header-search-form\"]/div[2]/div[1]/div/ul[1]/li/div[1]/div[1]').click()    \n",
    "        time.sleep(3)\n",
    "        page = driver.page_source\n",
    "        soup = BeautifulSoup(page)\n",
    "        isProfile5 = soup.select('#quote-nav > ul > li:nth-child(5) > a > span')[0].text\n",
    "        isProfile6 = soup.select('#quote-nav > ul > li:nth-child(6) > a > span')[0].text\n",
    "        isProfile7 = soup.select('#quote-nav > ul > li:nth-child(7) > a > span')[0].text\n",
    "        \n",
    "        if isProfile7 == 'Profile': #Company Outlook 잠금 ver.\n",
    "            driver.find_element_by_xpath('//*[@id=\"quote-nav\"]/ul/li[7]/a/span').click()\n",
    "            time.sleep(3)\n",
    "            page = driver.page_source\n",
    "            soup = BeautifulSoup(page)\n",
    "            sector = soup.find_all('span', class_='Fw(600)')[0].text\n",
    "            print(sector)\n",
    "            return sector\n",
    "            \n",
    "        elif isProfile6 == 'Profile':\n",
    "            driver.find_element_by_xpath('//*[@id=\"quote-nav\"]/ul/li[6]').click()\n",
    "            time.sleep(3)\n",
    "            page = driver.page_source\n",
    "            soup = BeautifulSoup(page)\n",
    "            sector = soup.find_all('span', class_='Fw(600)')[0].text\n",
    "            print(sector)\n",
    "            return sector\n",
    "        elif isProfile5 == 'Profile':\n",
    "            driver.find_element_by_xpath('//*[@id=\"quote-nav\"]/ul/li[5]').click()\n",
    "            time.sleep(3)\n",
    "            page = driver.page_source\n",
    "            soup = BeautifulSoup(page)\n",
    "            sector = soup.find_all('span', class_='Fl(end)')[0].text #category를 가져옴...sector 아님 주의\n",
    "            isETF = soup.find_all('span', class_='Fl(end)')[5].text #ETF 여부까지!\n",
    "            sector = sector + ' (' + isETF  + ')'\n",
    "            print(sector)\n",
    "            return sector\n",
    "        else:\n",
    "            print('check later')\n",
    "            return 'check later'\n",
    "        \n",
    "    except:\n",
    "        print('None')\n",
    "        return None"
   ]
  },
  {
   "cell_type": "code",
   "execution_count": null,
   "metadata": {},
   "outputs": [],
   "source": [
    "driver = wd.Chrome(executable_path='chromedriver.exe')\n",
    "driver.get('https://finance.yahoo.com/')"
   ]
  },
  {
   "cell_type": "code",
   "execution_count": null,
   "metadata": {},
   "outputs": [],
   "source": [
    "empty_lst = []\n",
    "for i in range(len(oss_iem_cd)):\n",
    "    empty_lst.append(find_plz(oss_iem_cd[i]))"
   ]
  },
  {
   "cell_type": "code",
   "execution_count": null,
   "metadata": {},
   "outputs": [],
   "source": [
    "#다시 합쳐서 내보내기\n",
    "oss_na_checklist_NA['sector'] = empty_lst\n",
    "oss_na_checklist = pd.concat([oss_na_checklist_notNA, oss_na_checklist_NA], axis=0)\n",
    "\n",
    "# oss_na_checklist.to_csv('../check/oss_yahoo_first.csv', index=False, encoding='cp949')\n",
    "# oss_na_checklist.to_csv('../check/oss_yahoo_second.csv', index=False, encoding='cp949')\n",
    "# oss_na_checklist.to_csv('../check/oss_yahoo_third.csv', index=False, encoding='cp949')"
   ]
  },
  {
   "cell_type": "markdown",
   "metadata": {},
   "source": [
    "### 크롤링 통합"
   ]
  },
  {
   "cell_type": "code",
   "execution_count": null,
   "metadata": {},
   "outputs": [],
   "source": [
    "oss = iem_info[~iem_info['iem_cd'].isin(wics_kr['iem_cd'])]\n",
    "\n",
    "#국내 J or Q (1. 국내에서 못 다룬 국내주식자료들)\n",
    "oss_J = oss[oss['iem_cd'].str.startswith('J')]\n",
    "oss_J = oss_J[~oss_J['iem_cd'].str.startswith('JP')] #JP로 시작하는 것은 제외\n",
    "oss_J = pd.merge(oss_J, iem_info).sort_values(by='iem_krl_nm')\n",
    "oss_Q = oss[oss['iem_cd'].str.startswith('Q')]\n",
    "oss_Q = pd.merge(oss_Q, iem_info).sort_values(by='iem_krl_nm')\n",
    "\n",
    "oss_J['sector'] = 'ELW'\n",
    "oss_Q['sector'] = 'ETF' #ETF, ETF는 모두 ETF로 통합\n",
    "\n",
    "oss_J.reset_index(drop=True, inplace=True)\n",
    "oss_Q.reset_index(drop=True, inplace=True)\n",
    "# oss_J.to_csv('../check/oss_J.csv', encoding='cp949', index=False)\n",
    "# oss_Q.to_csv('../check/oss_Q.csv', encoding='cp949', index=False)\n",
    "\n",
    "print(oss_J.shape) # J는 주식워런트증권\n",
    "print(oss_Q.shape) # Q는 ETF / ETN / DLS 같은 것들"
   ]
  },
  {
   "cell_type": "code",
   "execution_count": null,
   "metadata": {},
   "outputs": [],
   "source": [
    "#해외1. MarketScreener\n",
    "#병합 알고리즘 흐름\n",
    "# - oss_marketscreener -> oss_marketscreener_notNA + oss_marketscreener_NA\n",
    "# - oss_marketscreener_NA -> (yahoo와 merge 후) tmp_notNA + tmp_NA\n",
    "# - oss_marketscreener_notNA와 tmp_notNA 병합 / oss_marketscreener_NA -> tmp_NA\n",
    "\n",
    "oss_marketscreener = pd.read_csv('../preprocessed_data/oss_marketscreener.csv', encoding='cp949')"
   ]
  },
  {
   "cell_type": "code",
   "execution_count": null,
   "metadata": {},
   "outputs": [],
   "source": [
    "#해외2-1. Yahoo Finance (해외1에서 미분류된  애들 분류하기)\n",
    "#첫번째 yahoo 크롤링 / NA 223개 줄어듬\n",
    "oss_marketscreener_notNA = oss_marketscreener[~oss_marketscreener['sector'].isna()]\n",
    "oss_marketscreener_NA = oss_marketscreener[oss_marketscreener['sector'].isna()]\n",
    "print(oss_marketscreener_notNA.shape)\n",
    "print(oss_marketscreener_NA.shape)\n",
    "\n",
    "oss_yahoo = pd.read_csv('../preprocessed_data/oss_yahoo_first.csv', encoding='cp949') #야후에서 처음으로 크롤링한 것\n",
    "tmp = pd.merge(oss_marketscreener_NA[['iem_cd']], oss_yahoo, how='left')\n",
    "tmp_notNA = tmp[~tmp['sector'].isna()]\n",
    "tmp_NA = tmp[tmp['sector'].isna()]\n",
    "oss_marketscreener_notNA = pd.concat([oss_marketscreener_notNA, tmp_notNA], axis=0)\n",
    "oss_marketscreener_NA = tmp_NA\n",
    "print(oss_marketscreener_notNA.shape)\n",
    "print(oss_marketscreener_NA.shape)\n",
    "\n",
    "oss_marketscreener_NA.reset_index(drop=True).to_csv('../check/oss_marketscreener_NA.csv', encoding='cp949', index=False)"
   ]
  },
  {
   "cell_type": "code",
   "execution_count": null,
   "metadata": {},
   "outputs": [],
   "source": [
    "#해외2-2. Yahoo Finance (해외1-1에서 미분류된  애들 분류하기)\n",
    "#두번째 / NA 126개 줄어듬\n",
    "oss_marketscreener_NA = pd.read_csv('../check/oss_marketscreener_NA.csv', encoding='cp949')\n",
    "oss_yahoo_again = pd.read_csv('../check/oss_yahoo_second.csv', encoding='cp949') #두번째 yahoo 크롤링\n",
    "\n",
    "tmp = pd.merge(oss_marketscreener_NA[['iem_cd']], oss_yahoo_again, how='left')\n",
    "tmp_notNA = tmp[~tmp['sector'].isna()]\n",
    "tmp_NA = tmp[tmp['sector'].isna()]\n",
    "oss_marketscreener_notNA = pd.concat([oss_marketscreener_notNA, tmp_notNA], axis=0)\n",
    "oss_marketscreener_NA = tmp_NA\n",
    "print(oss_marketscreener_notNA.shape)\n",
    "print(oss_marketscreener_NA.shape)\n",
    "\n",
    "oss_marketscreener_NA.reset_index(drop=True).to_csv('../check/oss_marketscreener_NA.csv', encoding='cp949', index=False)"
   ]
  },
  {
   "cell_type": "code",
   "execution_count": null,
   "metadata": {},
   "outputs": [],
   "source": [
    "#해외2-3. Yahoo Finance (해외1-1에서 미분류된  애들 분류하기)\n",
    "#세번째 / NA 7개 줄어듬\n",
    "oss_marketscreener_NA = pd.read_csv('../check/oss_marketscreener_NA.csv', encoding='cp949')\n",
    "oss_yahoo_NA = pd.read_csv('../check/oss_yahoo_third.csv', encoding='cp949')  #세번째 yahoo 크롤링\n",
    "\n",
    "tmp = pd.merge(oss_marketscreener_NA[['iem_cd']], oss_yahoo_NA, how='left')\n",
    "tmp_notNA = tmp[~tmp['sector'].isna()]\n",
    "tmp_NA = tmp[tmp['sector'].isna()]\n",
    "oss_marketscreener_notNA = pd.concat([oss_marketscreener_notNA, tmp_notNA], axis=0)\n",
    "oss_marketscreener_NA = tmp_NA\n",
    "print(oss_marketscreener_notNA.shape)\n",
    "print(oss_marketscreener_NA.shape)"
   ]
  },
  {
   "cell_type": "code",
   "execution_count": null,
   "metadata": {},
   "outputs": [],
   "source": [
    "#해외 ETF 구별하기\n",
    "oss_na = pd.merge(oss_marketscreener_NA[['iem_cd', 'sector', 'title']], iem_info)"
   ]
  },
  {
   "cell_type": "code",
   "execution_count": null,
   "metadata": {},
   "outputs": [],
   "source": [
    "def get_ETF(data, word):\n",
    "    oss_na_ETF = data[data['iem_krl_nm'].str.contains(word)].reset_index(drop=True)\n",
    "    oss_na_notETF = data[~data['iem_krl_nm'].str.contains(word)].reset_index(drop=True)\n",
    "    oss_na_ETF['sector'] = 'ETF'\n",
    "    oss_na = pd.concat([oss_na_ETF, oss_na_notETF])\n",
    "    oss_na.reset_index(drop=True, inplace=True)\n",
    "    return oss_na\n",
    "\n",
    "oss_na = get_ETF(oss_na, 'ETF')\n",
    "oss_na = get_ETF(oss_na, 'ETN')\n",
    "oss_na = get_ETF(oss_na, ' 3X')\n",
    "oss_na = get_ETF(oss_na, ' 2X')"
   ]
  },
  {
   "cell_type": "code",
   "execution_count": null,
   "metadata": {},
   "outputs": [],
   "source": [
    "oss_marketscreener_notNA = pd.concat([oss_marketscreener_notNA, oss_na[~oss_na['sector'].isna()]], axis=0).reset_index(drop=True)\n",
    "oss_marketscreener_NA = oss_na[oss_na['sector'].isna()]\n",
    "print(oss_marketscreener_notNA.shape)\n",
    "print(oss_marketscreener_NA.shape)\n",
    "\n",
    "#내보내기\n",
    "# oss_marketscreener_notNA.reset_index(drop=True).to_csv('../check/oss_marketscreener_notNA.csv', encoding='cp949', index=False)\n",
    "# oss_marketscreener_NA.reset_index(drop=True).to_csv('../check/oss_marketscreener_NA.csv', encoding='cp949', index=False)"
   ]
  },
  {
   "cell_type": "code",
   "execution_count": null,
   "metadata": {},
   "outputs": [],
   "source": [
    "#통합\n",
    "oss_marketscreener = pd.concat([oss_marketscreener_notNA, oss_marketscreener_NA], axis=0).reset_index(drop=True)\n",
    "oss_merged = pd.merge(oss_marketscreener[['iem_cd','sector']], iem_info, how='left')\n",
    "oss_merged = pd.concat([oss_merged, oss_J, oss_Q]).reset_index(drop=True) #oss_J, oss_Q도 합치기\n",
    "oss_merged.to_csv('../preprocessed_data/oss_merged.csv', index=False, encoding='cp949')"
   ]
  },
  {
   "cell_type": "markdown",
   "metadata": {},
   "source": [
    "### 분류하기"
   ]
  },
  {
   "cell_type": "code",
   "execution_count": 15,
   "metadata": {},
   "outputs": [],
   "source": [
    "#데이터 가져오기\n",
    "oss_merged = pd.read_csv('../preprocessed_data/oss_merged.csv', encoding='cp949')\n",
    "oss_merged_notNA = oss_merged[~oss_merged['sector'].isna()]\n",
    "\n",
    "oss_ms_cat = pd.read_csv('../check/oss_marketscreener_cat_together.csv', encoding='cp949') #카테고리 분류(eng->kr)\n",
    "oss_ms_cat = oss_ms_cat[['sector', 'wics']] #ms = marketscreener\n",
    "\n",
    "oss_ms_cat_self = pd.read_csv('../check/oss_marketscreener_NA_직접입력.csv', encoding='cp949') #검색이 안되는 회사들(36개) 직접 서칭 후 분류\n",
    "oss_ms_cat_self = oss_ms_cat_self[['iem_cd', 'wics', 'iem_eng_nm', 'iem_krl_nm']]"
   ]
  },
  {
   "cell_type": "code",
   "execution_count": 16,
   "metadata": {},
   "outputs": [],
   "source": [
    "#소분류 기준 만들기\n",
    "oss_ms_cat_dict = {}\n",
    "for i in range(len(oss_ms_cat)):\n",
    "    oss_ms_cat_dict[oss_ms_cat.iloc[i,0]] = oss_ms_cat.iloc[i,1]\n",
    "oss_ms_cat_dict['ETF'] = 'etf'\n",
    "oss_ms_cat_dict['ELW'] = 'ELW'"
   ]
  },
  {
   "cell_type": "code",
   "execution_count": 17,
   "metadata": {},
   "outputs": [],
   "source": [
    "def get_ms_wics(oss_merged_notNA):\n",
    "    try:\n",
    "        return oss_ms_cat_dict[oss_merged_notNA['sector']]\n",
    "    except:\n",
    "        return None"
   ]
  },
  {
   "cell_type": "code",
   "execution_count": 18,
   "metadata": {},
   "outputs": [
    {
     "name": "stderr",
     "output_type": "stream",
     "text": [
      "<ipython-input-18-5d4247b0e149>:2: SettingWithCopyWarning: \n",
      "A value is trying to be set on a copy of a slice from a DataFrame.\n",
      "Try using .loc[row_indexer,col_indexer] = value instead\n",
      "\n",
      "See the caveats in the documentation: https://pandas.pydata.org/pandas-docs/stable/user_guide/indexing.html#returning-a-view-versus-a-copy\n",
      "  oss_merged_notNA['wics'] = oss_merged_notNA.apply(get_ms_wics, axis=1) #ms_cat으로만 해도 충분함 (yh_cat이랑 겹침)\n",
      "C:\\ProgramData\\Anaconda3\\lib\\site-packages\\pandas\\core\\indexing.py:671: SettingWithCopyWarning: \n",
      "A value is trying to be set on a copy of a slice from a DataFrame\n",
      "\n",
      "See the caveats in the documentation: https://pandas.pydata.org/pandas-docs/stable/user_guide/indexing.html#returning-a-view-versus-a-copy\n",
      "  self._setitem_with_indexer(indexer, value)\n",
      "<ipython-input-18-5d4247b0e149>:3: SettingWithCopyWarning: \n",
      "A value is trying to be set on a copy of a slice from a DataFrame\n",
      "\n",
      "See the caveats in the documentation: https://pandas.pydata.org/pandas-docs/stable/user_guide/indexing.html#returning-a-view-versus-a-copy\n",
      "  oss_merged_notNA.loc[oss_merged_notNA['wics'].isna(), 'wics'] = 'etf' #나머지 NA는 모두 ETF임을 확인함.\n"
     ]
    }
   ],
   "source": [
    "#소분류\n",
    "oss_merged_notNA['wics'] = oss_merged_notNA.apply(get_ms_wics, axis=1) #ms_cat으로만 해도 충분함 (yh_cat이랑 겹침)\n",
    "oss_merged_notNA.loc[oss_merged_notNA['wics'].isna(), 'wics'] = 'etf' #나머지 NA는 모두 ETF임을 확인함.\n",
    "oss_merged_notNA = oss_merged_notNA[['iem_cd', 'wics', 'iem_eng_nm', 'iem_krl_nm']]\n",
    "\n",
    "oss_wics = pd.concat([oss_ms_cat_self, oss_merged_notNA], axis=0)\n",
    "oss_wics.reset_index(drop=True, inplace=True)\n",
    "oss_wics.columns = ['iem_cd', 'cat_3', 'iem_eng_nm', 'iem_krl_nm']\n",
    "\n",
    "#소분류 수정\n",
    "oss_wics.iloc[[1043, 1112, 1196, 1197, 1231, 1239, 1263, 1041, 1045, 1076, 1108, 1149, 1172], \n",
    "              1] = ['해운사', '해운사', '해운사', '해운사', '상업서비스와공급품', '상업서비스와공급품', '기계', '전문소매',\n",
    "                    '인터넷과카탈로그소매', '섬유,의류,신발,호화품', '자동차', '인터넷과카탈로그소매', '호텔,레스토랑,레저']"
   ]
  },
  {
   "cell_type": "code",
   "execution_count": 19,
   "metadata": {},
   "outputs": [],
   "source": [
    "#중분류 & 대분류\n",
    "oss_wics['cat_1'] = None\n",
    "oss_wics['cat_2'] = None\n",
    "oss_wics = oss_wics[['iem_cd', 'iem_eng_nm', 'iem_krl_nm', 'cat_1', 'cat_2', 'cat_3']]\n",
    "\n",
    "#중분류\n",
    "for i in range(len(oss_wics)):\n",
    "    if oss_wics.iloc[i, 5] in ['에너지장비및서비스', '석유와가스']:\n",
    "        oss_wics.iloc[i, 4] = '에너지'\n",
    "    elif oss_wics.iloc[i, 5] in ['화학', '포장재', '비철금속', '철강', '종이와목재']:\n",
    "        oss_wics.iloc[i, 4] = '소재'\n",
    "    elif oss_wics.iloc[i, 5] in ['우주항공과국방', '건축제품', '건축자재', '건설', '가구', '전기장비', '복합기업', '기계', '조선', '무역회사와판매업체']:\n",
    "        oss_wics.iloc[i, 4] = '자본재'\n",
    "    elif oss_wics.iloc[i, 5] in ['상업서비스와공급품']:\n",
    "        oss_wics.iloc[i, 4] = '상업서비스와공급품'\n",
    "    elif oss_wics.iloc[i, 5] in ['항공화물운송과물류', '항공사', '해운사', '도로와철도운송', '운송인프라']:\n",
    "        oss_wics.iloc[i, 4] = '운송'\n",
    "    elif oss_wics.iloc[i, 5] in ['자동차부품', '자동차']:\n",
    "        oss_wics.iloc[i, 4] = '자동차와부품'\n",
    "    elif oss_wics.iloc[i, 5] in ['가정용기기와용품', '레저용장비와제품', '섬유,의류,신발,호화품', '화장품', '문구류']:\n",
    "        oss_wics.iloc[i, 4] = '내구소비재와의류'\n",
    "    elif oss_wics.iloc[i, 5] in ['호텔,레스토랑,레저', '다각화된소비자서비스']:\n",
    "        oss_wics.iloc[i, 4] = '호텔,레스토랑,레저등'\n",
    "    elif oss_wics.iloc[i, 5] in ['판매업체', '인터넷과카탈로그소매', '백화점과일반상점', '전문소매']:\n",
    "        oss_wics.iloc[i, 4] = '소매(유통)'\n",
    "    elif oss_wics.iloc[i, 5] in ['교육서비스']:\n",
    "        oss_wics.iloc[i, 4] = '교육서비스'\n",
    "    elif oss_wics.iloc[i, 5] in ['식품과기본식료품소매']:\n",
    "        oss_wics.iloc[i, 4] = '식품과기본식료품소매'\n",
    "    elif oss_wics.iloc[i, 5] in ['음료', '식품', '담배']:\n",
    "        oss_wics.iloc[i, 4] = '식품,음료,담배'\n",
    "    elif oss_wics.iloc[i, 5] in ['가정용품']:\n",
    "        oss_wics.iloc[i, 4] = '가정용품과개인용품'\n",
    "    elif oss_wics.iloc[i, 5] in ['건강관리장비와용품', '건강관리업체및서비스', '건강관리기술']:\n",
    "        oss_wics.iloc[i, 4] = '건강관리장비와서비스'\n",
    "    elif oss_wics.iloc[i, 5] in ['생물공학', '제약', '생명과학도구및서비스']:\n",
    "        oss_wics.iloc[i, 4] = '제약과생물공학'\n",
    "    elif oss_wics.iloc[i, 5] in ['은행']:\n",
    "        oss_wics.iloc[i, 4] = '은행'\n",
    "    elif oss_wics.iloc[i, 5] in ['증권']:\n",
    "        oss_wics.iloc[i, 4] = '증권'\n",
    "    elif oss_wics.iloc[i, 5] in ['창업투자', '카드', '기타금융']:\n",
    "        oss_wics.iloc[i, 4] = '다각화된금융'\n",
    "    elif oss_wics.iloc[i, 5] in ['손해보험', '생명보험']:\n",
    "        oss_wics.iloc[i, 4] = '보험'\n",
    "    elif oss_wics.iloc[i, 5] in ['부동산']:\n",
    "        oss_wics.iloc[i, 4] = '부동산'\n",
    "    elif oss_wics.iloc[i, 5] in ['IT서비스', '소프트웨어']:\n",
    "        oss_wics.iloc[i, 4] = '소프트웨어와서비스'\n",
    "    elif oss_wics.iloc[i, 5] in ['통신장비', '핸드셋', '컴퓨터와주변기기', '전자장비와기기', '사무용전자제품']:\n",
    "        oss_wics.iloc[i, 4] = '기술하드웨어와장비'\n",
    "    elif oss_wics.iloc[i, 5] in ['반도체와반도체장비']:\n",
    "        oss_wics.iloc[i, 4] = '반도체와반도체장비'\n",
    "    elif oss_wics.iloc[i, 5] in ['전자제품', '전기제품']:\n",
    "        oss_wics.iloc[i, 4] = '전자와전기제품'\n",
    "    elif oss_wics.iloc[i, 5] in ['디스플레이패널', '디스플레이장비및부품']:\n",
    "        oss_wics.iloc[i, 4] = '디스플레이'\n",
    "    elif oss_wics.iloc[i, 5] in ['다각화된통신서비스', '무선통신서비스']:\n",
    "        oss_wics.iloc[i, 4] = '전기통신서비스'\n",
    "    elif oss_wics.iloc[i, 5] in ['광고', '방송과엔터테인먼트', '출판', '게임엔터테인먼트', '양방향미디어와서비스']:\n",
    "        oss_wics.iloc[i, 4] = '미디어와엔터테인먼트'\n",
    "    elif oss_wics.iloc[i, 5] in ['전기유틸리티', '가스유틸리티', '복합유틸리티', '수도유틸리티', '독립전력생산및에너지거래']:\n",
    "        oss_wics.iloc[i, 4] = '유틸리티'\n",
    "    elif oss_wics.iloc[i, 5] in ['미분류']:\n",
    "        oss_wics.iloc[i, 4] = '미분류'\n",
    "    elif oss_wics.iloc[i, 5] in ['ELW']:\n",
    "        oss_wics.iloc[i, 4] = 'ELW'        \n",
    "    elif oss_wics.iloc[i, 5] in ['etf']:\n",
    "        oss_wics.iloc[i, 4] = 'ETF'\n",
    "    else:\n",
    "        oss_wics.iloc[i, 4] = None   "
   ]
  },
  {
   "cell_type": "code",
   "execution_count": 20,
   "metadata": {},
   "outputs": [],
   "source": [
    "#대분류\n",
    "for i in range(len(oss_wics)):\n",
    "    if oss_wics.iloc[i, 4] in ['에너지']:\n",
    "        oss_wics.iloc[i, 3] = '에너지'\n",
    "    elif oss_wics.iloc[i, 4] in ['소재']:\n",
    "        oss_wics.iloc[i, 3] = '소재'\n",
    "    elif oss_wics.iloc[i, 4] in ['자본재', '상업서비스와공급품', '운송']:\n",
    "        oss_wics.iloc[i, 3] = '산업재'\n",
    "    elif oss_wics.iloc[i, 4] in ['자동차와부품', '내구소비재와의류', '호텔,레스토랑,레저등', '소매(유통)', '교육서비스']:\n",
    "        oss_wics.iloc[i, 3] = '경기관련소비재'\n",
    "    elif oss_wics.iloc[i, 4] in ['식품과기본식료품소매', '식품,음료,담배', '가정용품과개인용품']:\n",
    "        oss_wics.iloc[i, 3] = '필수소비재'\n",
    "    elif oss_wics.iloc[i, 4] in ['건강관리장비와서비스', '제약과생물공학']:\n",
    "        oss_wics.iloc[i, 3] = '건강관리'\n",
    "    elif oss_wics.iloc[i, 4] in ['은행', '증권', '다각화된금융', '보험', '부동산']:\n",
    "        oss_wics.iloc[i, 3] = '금융'\n",
    "    elif oss_wics.iloc[i, 4] in ['소프트웨어와서비스', '기술하드웨어와장비', '반도체와반도체장비', '전자와전기제품', '디스플레이']:\n",
    "        oss_wics.iloc[i, 3] = 'IT'\n",
    "    elif oss_wics.iloc[i, 4] in ['전기통신서비스', '미디어와엔터테인먼트']:\n",
    "        oss_wics.iloc[i, 3] = '커뮤니케이션서비스'\n",
    "    elif oss_wics.iloc[i, 4] in ['유틸리티']:\n",
    "        oss_wics.iloc[i, 3] = '유틸리티'\n",
    "    elif oss_wics.iloc[i, 4] in ['미분류']:\n",
    "        oss_wics.iloc[i, 3] = '미분류'\n",
    "    elif oss_wics.iloc[i, 4] in ['ELW']:\n",
    "        oss_wics.iloc[i, 3] = 'ELW'        \n",
    "    elif oss_wics.iloc[i, 4] in ['ETF']:\n",
    "        oss_wics.iloc[i, 3] = 'ETF'                \n",
    "    else:\n",
    "        oss_wics.iloc[i, 3] = None"
   ]
  },
  {
   "cell_type": "code",
   "execution_count": 21,
   "metadata": {},
   "outputs": [],
   "source": [
    "#ETF 중분류 & 대분류\n",
    "ETForNot = oss_wics['cat_1']=='ETF' \n",
    "INV_eng = oss_wics['iem_eng_nm'].str.contains('Inverse|INVERSE| INV |INVRS')\n",
    "INV_kr = oss_wics['iem_krl_nm'].str.contains('인버스')\n",
    "\n",
    "times2_eng = oss_wics['iem_eng_nm'].str.contains('2x|2X|leverage|Leverage|LEVERAGE')\n",
    "times2_kr = oss_wics['iem_krl_nm'].str.contains('2x|2X|레버리지')\n",
    "times3_eng = oss_wics['iem_eng_nm'].str.contains('3x|3X')\n",
    "times3_kr = oss_wics['iem_krl_nm'].str.contains('3x|3X')\n",
    "\n",
    "oss_wics.loc[oss_wics['cat_1'] == 'ETF', 'cat_2'] = 'ETF(일반)'\n",
    "oss_wics.loc[ETForNot & (INV_eng|INV_kr), 'cat_2'] = 'ETF(인버스)'\n",
    "\n",
    "oss_wics.loc[oss_wics['cat_1'] == 'ETF', 'cat_3'] = 'ETF(1배)'\n",
    "oss_wics.loc[ETForNot & (times2_eng|times2_kr), 'cat_3'] = 'ETF(2배)'\n",
    "oss_wics.loc[ETForNot & (times3_eng|times3_kr), 'cat_3'] = 'ETF(3배)'"
   ]
  },
  {
   "cell_type": "code",
   "execution_count": 22,
   "metadata": {},
   "outputs": [],
   "source": [
    "oss_wics.drop(['iem_eng_nm', 'iem_krl_nm'], axis=1, inplace=True)\n",
    "oss_wics.to_csv('../preprocessed_data/wics_oss.csv', index=False, encoding='cp949')"
   ]
  },
  {
   "cell_type": "markdown",
   "metadata": {},
   "source": [
    "\n",
    "------"
   ]
  },
  {
   "cell_type": "markdown",
   "metadata": {},
   "source": [
    "# WICS 통합본"
   ]
  },
  {
   "cell_type": "code",
   "execution_count": 24,
   "metadata": {},
   "outputs": [],
   "source": [
    "wics_oss = pd.read_csv('../preprocessed_data/wics_oss.csv', encoding='cp949')\n",
    "wics_kr = pd.read_csv('../preprocessed_data/wics_kr.csv')"
   ]
  },
  {
   "cell_type": "code",
   "execution_count": 25,
   "metadata": {},
   "outputs": [],
   "source": [
    "wics = pd.concat([wics_kr, wics_oss])"
   ]
  },
  {
   "cell_type": "code",
   "execution_count": null,
   "metadata": {},
   "outputs": [],
   "source": [
    "wics = pd.merge(wics, iem_info, on='iem_cd')"
   ]
  },
  {
   "cell_type": "code",
   "execution_count": null,
   "metadata": {},
   "outputs": [],
   "source": [
    "for i in range(len(wics)):\n",
    "    if ('SHORT' in wics.iloc[i, 4]) | ('Sht' in wics.iloc[i, 4]) | ('숏' in wics.iloc[i, 5]):\n",
    "        wics.iloc[i, 2] = 'ETF(인버스)'\n",
    "\n",
    "for i in range(len(wics)):\n",
    "    if ('DOUBLE' in wics.iloc[i, 4]) | ('울트라' in wics.iloc[i, 5]):\n",
    "        wics.iloc[i, 3] = 'ETF(2배)'\n",
    "    elif ('UltP' in wics.iloc[i, 4]) | ('울트라프로' in wics.iloc[i, 5]):\n",
    "        wics.iloc[i, 3] = 'ETF(3배)'"
   ]
  },
  {
   "cell_type": "code",
   "execution_count": null,
   "metadata": {},
   "outputs": [],
   "source": [
    "wics = wics.drop(['iem_krl_nm', 'iem_eng_nm'], axis=1)"
   ]
  },
  {
   "cell_type": "code",
   "execution_count": 27,
   "metadata": {},
   "outputs": [],
   "source": [
    "wics.to_csv('../preprocessed_data/wics.csv', index=False, encoding='cp949')"
   ]
  },
  {
   "cell_type": "markdown",
   "metadata": {},
   "source": [
    "--------"
   ]
  },
  {
   "cell_type": "markdown",
   "metadata": {},
   "source": [
    "# 3. 기타 그외"
   ]
  },
  {
   "cell_type": "markdown",
   "metadata": {},
   "source": [
    "### 3-1. KOSPI"
   ]
  },
  {
   "cell_type": "code",
   "execution_count": null,
   "metadata": {},
   "outputs": [],
   "source": [
    "kospi = pd.DataFrame(columns=['날짜', '체결가', '전일비', '등락률', '거래량(천주)', '거래대금(백만)'])"
   ]
  },
  {
   "cell_type": "code",
   "execution_count": null,
   "metadata": {},
   "outputs": [],
   "source": [
    "for i in range(1, 82):\n",
    "    url = 'https://finance.naver.com/sise/sise_index_day.nhn?code=KOSPI&page=' + str(i)\n",
    "    page = requests.get(url)\n",
    "    soup = BeautifulSoup(page.content, 'html.parser')\n",
    "    kospi = pd.concat([kospi, pd.read_html(str(soup))[0].dropna()])"
   ]
  },
  {
   "cell_type": "code",
   "execution_count": null,
   "metadata": {},
   "outputs": [],
   "source": [
    "kospi = kospi.reset_index(drop=True)"
   ]
  },
  {
   "cell_type": "code",
   "execution_count": null,
   "metadata": {},
   "outputs": [],
   "source": [
    "kospi = kospi[:481]"
   ]
  },
  {
   "cell_type": "code",
   "execution_count": null,
   "metadata": {},
   "outputs": [],
   "source": [
    "kospi['날짜'] = pd.to_datetime(kospi['날짜'])"
   ]
  },
  {
   "cell_type": "code",
   "execution_count": null,
   "metadata": {},
   "outputs": [],
   "source": [
    "kospi = kospi.sort_values('날짜').reset_index(drop=True)"
   ]
  },
  {
   "cell_type": "code",
   "execution_count": null,
   "metadata": {},
   "outputs": [],
   "source": [
    "kospi = kospi[['날짜', '체결가']]"
   ]
  },
  {
   "cell_type": "code",
   "execution_count": null,
   "metadata": {},
   "outputs": [],
   "source": [
    "kospi.columns = ['orr_dt', 'orr_pr']"
   ]
  },
  {
   "cell_type": "code",
   "execution_count": null,
   "metadata": {},
   "outputs": [],
   "source": [
    "kospi.to_csv('kospi.csv', index=False)"
   ]
  }
 ],
 "metadata": {
  "kernelspec": {
   "display_name": "Python 3",
   "language": "python",
   "name": "python3"
  },
  "language_info": {
   "codemirror_mode": {
    "name": "ipython",
    "version": 3
   },
   "file_extension": ".py",
   "mimetype": "text/x-python",
   "name": "python",
   "nbconvert_exporter": "python",
   "pygments_lexer": "ipython3",
   "version": "3.8.3"
  }
 },
 "nbformat": 4,
 "nbformat_minor": 4
}
